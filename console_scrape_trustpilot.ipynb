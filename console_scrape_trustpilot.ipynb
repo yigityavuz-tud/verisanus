{
 "cells": [
  {
   "cell_type": "code",
   "execution_count": 1,
   "metadata": {},
   "outputs": [],
   "source": [
    "import scrape_trustpilot_reviews as str\n",
    "import pandas as pd"
   ]
  },
  {
   "cell_type": "markdown",
   "metadata": {},
   "source": [
    "## Trustpilot"
   ]
  },
  {
   "cell_type": "code",
   "execution_count": 2,
   "metadata": {},
   "outputs": [],
   "source": [
    "establishments = str.get_establishments_to_scrape()\n",
    "if establishments.empty:\n",
    "    print(\"No establishments to scrape based on the criteria.\")"
   ]
  },
  {
   "cell_type": "code",
   "execution_count": 3,
   "metadata": {},
   "outputs": [
    {
     "data": {
      "application/vnd.microsoft.datawrangler.viewer.v0+json": {
       "columns": [
        {
         "name": "index",
         "rawType": "int64",
         "type": "integer"
        },
        {
         "name": "placeId",
         "rawType": "object",
         "type": "string"
        },
        {
         "name": "title",
         "rawType": "object",
         "type": "string"
        },
        {
         "name": "subTitle",
         "rawType": "object",
         "type": "unknown"
        },
        {
         "name": "reviewsCount",
         "rawType": "int64",
         "type": "integer"
        },
        {
         "name": "totalScore",
         "rawType": "float64",
         "type": "float"
        },
        {
         "name": "url",
         "rawType": "object",
         "type": "string"
        },
        {
         "name": "website",
         "rawType": "object",
         "type": "string"
        },
        {
         "name": "city",
         "rawType": "object",
         "type": "string"
        },
        {
         "name": "address",
         "rawType": "object",
         "type": "string"
        },
        {
         "name": "phone",
         "rawType": "object",
         "type": "string"
        },
        {
         "name": "googleMapsScrapedAt",
         "rawType": "datetime64[ns]",
         "type": "datetime"
        },
        {
         "name": "trustpilotScrapedAt",
         "rawType": "datetime64[ns]",
         "type": "datetime"
        },
        {
         "name": "hasTrustpilot",
         "rawType": "int64",
         "type": "integer"
        },
        {
         "name": "trustpilotReviewCount",
         "rawType": "int64",
         "type": "integer"
        }
       ],
       "conversionMethod": "pd.DataFrame",
       "ref": "ace89672-7ad4-4e5e-9c33-b4cbe05c5e82",
       "rows": [
        [
         "6",
         "ChIJW40wCG-2yhQRuPTD5f7bqIc",
         "Estetistanbul Tıp Merkezi & Saç Ekimi",
         null,
         "199",
         "5.0",
         "https://www.google.com/maps/place/Estetistanbul+T%C4%B1p+Merkezi/@41.0838764,29.0109825,17z/data=!4m10!1m2!2m1!1sestetistanbul!3m6!1s0x14cab66f08308d5b:0x87a8dbfee5c3f4b8!8m2!3d41.0838758!4d29.0135657!15sCg1lc3RldGlzdGFuYnVskgEObWVkaWNhbF9jZW50ZXLgAQA!16s%2Fg%2F1tctn_f4?entry=ttu&g_ep=EgoyMDI1MDQwMi4xIKXMDSoASAFQAw%3D%3D",
         "https://www.estetistanbul.com/",
         "Beşiktaş",
         "Levent, Beyaz Karanfil Sk. No:27, 34330 Beşiktaş/İstanbul, Türkiye",
         "+90 212 280 08 00",
         "2025-04-06 00:00:00",
         "2023-10-05 00:00:00",
         "1",
         "44"
        ]
       ],
       "shape": {
        "columns": 14,
        "rows": 1
       }
      },
      "text/html": [
       "<div>\n",
       "<style scoped>\n",
       "    .dataframe tbody tr th:only-of-type {\n",
       "        vertical-align: middle;\n",
       "    }\n",
       "\n",
       "    .dataframe tbody tr th {\n",
       "        vertical-align: top;\n",
       "    }\n",
       "\n",
       "    .dataframe thead th {\n",
       "        text-align: right;\n",
       "    }\n",
       "</style>\n",
       "<table border=\"1\" class=\"dataframe\">\n",
       "  <thead>\n",
       "    <tr style=\"text-align: right;\">\n",
       "      <th></th>\n",
       "      <th>placeId</th>\n",
       "      <th>title</th>\n",
       "      <th>subTitle</th>\n",
       "      <th>reviewsCount</th>\n",
       "      <th>totalScore</th>\n",
       "      <th>url</th>\n",
       "      <th>website</th>\n",
       "      <th>city</th>\n",
       "      <th>address</th>\n",
       "      <th>phone</th>\n",
       "      <th>googleMapsScrapedAt</th>\n",
       "      <th>trustpilotScrapedAt</th>\n",
       "      <th>hasTrustpilot</th>\n",
       "      <th>trustpilotReviewCount</th>\n",
       "    </tr>\n",
       "  </thead>\n",
       "  <tbody>\n",
       "    <tr>\n",
       "      <th>6</th>\n",
       "      <td>ChIJW40wCG-2yhQRuPTD5f7bqIc</td>\n",
       "      <td>Estetistanbul Tıp Merkezi &amp; Saç Ekimi</td>\n",
       "      <td>NaN</td>\n",
       "      <td>199</td>\n",
       "      <td>5.0</td>\n",
       "      <td>https://www.google.com/maps/place/Estetistanbu...</td>\n",
       "      <td>https://www.estetistanbul.com/</td>\n",
       "      <td>Beşiktaş</td>\n",
       "      <td>Levent, Beyaz Karanfil Sk. No:27, 34330 Beşikt...</td>\n",
       "      <td>+90 212 280 08 00</td>\n",
       "      <td>2025-04-06</td>\n",
       "      <td>2023-10-05</td>\n",
       "      <td>1</td>\n",
       "      <td>44</td>\n",
       "    </tr>\n",
       "  </tbody>\n",
       "</table>\n",
       "</div>"
      ],
      "text/plain": [
       "                       placeId                                  title  \\\n",
       "6  ChIJW40wCG-2yhQRuPTD5f7bqIc  Estetistanbul Tıp Merkezi & Saç Ekimi   \n",
       "\n",
       "  subTitle  reviewsCount  totalScore  \\\n",
       "6      NaN           199         5.0   \n",
       "\n",
       "                                                 url  \\\n",
       "6  https://www.google.com/maps/place/Estetistanbu...   \n",
       "\n",
       "                          website      city  \\\n",
       "6  https://www.estetistanbul.com/  Beşiktaş   \n",
       "\n",
       "                                             address              phone  \\\n",
       "6  Levent, Beyaz Karanfil Sk. No:27, 34330 Beşikt...  +90 212 280 08 00   \n",
       "\n",
       "  googleMapsScrapedAt trustpilotScrapedAt  hasTrustpilot  \\\n",
       "6          2025-04-06          2023-10-05              1   \n",
       "\n",
       "   trustpilotReviewCount  \n",
       "6                     44  "
      ]
     },
     "execution_count": 3,
     "metadata": {},
     "output_type": "execute_result"
    }
   ],
   "source": [
    "establishments"
   ]
  },
  {
   "cell_type": "code",
   "execution_count": 4,
   "metadata": {},
   "outputs": [],
   "source": [
    "# Run Trustpilot scraping\n",
    "# trustpilot_reviews_df = str.scrape_reviews(establishments)\n",
    "# str.save_reviews(trustpilot_reviews_df)\n"
   ]
  },
  {
   "cell_type": "code",
   "execution_count": 5,
   "metadata": {},
   "outputs": [
    {
     "name": "stdout",
     "output_type": "stream",
     "text": [
      "Loaded existing unified reviews from reviews\\trustpilot\\allTrustpilotReviews_2025-04-06.xlsx\n",
      "Unified reviews saved to reviews/trustpilot/allTrustpilotReviews_2025-04-08.xlsx\n",
      "Total reviews: 694\n"
     ]
    }
   ],
   "source": [
    "# Unify all Trustpilot reviews\n",
    "str.unify_reviews()\n"
   ]
  },
  {
   "cell_type": "code",
   "execution_count": 6,
   "metadata": {},
   "outputs": [
    {
     "name": "stdout",
     "output_type": "stream",
     "text": [
      "Number of reviews per establishment:                        placeId  trustpilotReviewCount\n",
      "0  ChIJ46c0kwG3yhQRxYnQckUyqPg                    305\n",
      "1  ChIJHfFICfy3yhQR6g4ryU3XcfM                    104\n",
      "2  ChIJI184CMjHyhQRa8MxkyaZQqc                     16\n",
      "3  ChIJOcutT1HHyhQREVaU7GyaLhY                      2\n",
      "4  ChIJW40wCG-2yhQRuPTD5f7bqIc                     44\n",
      "5  ChIJZYs6o7LIyhQR-sGxFoifWLw                    165\n",
      "6  ChIJt-fXGmejyhQRb0NIbIJJAc0                     58\n"
     ]
    }
   ],
   "source": [
    "# Update the establishment base with Trustpilot reviews\n",
    "str.update_establishment_base()"
   ]
  },
  {
   "cell_type": "code",
   "execution_count": null,
   "metadata": {},
   "outputs": [],
   "source": []
  }
 ],
 "metadata": {
  "kernelspec": {
   "display_name": "base",
   "language": "python",
   "name": "python3"
  },
  "language_info": {
   "codemirror_mode": {
    "name": "ipython",
    "version": 3
   },
   "file_extension": ".py",
   "mimetype": "text/x-python",
   "name": "python",
   "nbconvert_exporter": "python",
   "pygments_lexer": "ipython3",
   "version": "3.11.4"
  }
 },
 "nbformat": 4,
 "nbformat_minor": 2
}
