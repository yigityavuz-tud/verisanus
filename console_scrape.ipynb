{
 "cells": [
  {
   "cell_type": "code",
   "execution_count": 1,
   "metadata": {},
   "outputs": [],
   "source": [
    "import scrape_trustpilot_reviews\n",
    "import scrape_google_reviews\n",
    "import pandas as pd\n",
    "from datetime import datetime\n",
    "import sys"
   ]
  },
  {
   "cell_type": "markdown",
   "metadata": {},
   "source": [
    "## Google Maps"
   ]
  },
  {
   "cell_type": "code",
   "execution_count": 2,
   "metadata": {},
   "outputs": [
    {
     "name": "stdout",
     "output_type": "stream",
     "text": [
      "\n",
      "Selected establishments for scraping:\n",
      "--------------------------------------------------------------------------------\n",
      "Title                                              Place ID             Review Count   \n",
      "--------------------------------------------------------------------------------\n",
      "SULE CLINIC - Hair Transplant Turkey istanbul      ChIJuQbq64ewyhQRSEKVkD785Vk 1480           \n",
      "Acıbadem Saç Ekimi - Acibadem Hair Transplant      ChIJPdR-tVm3yhQRib1IxKDsfEI 1288           \n",
      "Özel Murat Makascı Polikliniği - Saç Ekimi         ChIJbWomqTXHyhQRI6n6JPQlKhs 1030           \n",
      "AKL Polikliniği Ataşehir | Saç Ekimi               ChIJE31xeTHGyhQRpddhgb2ARk8 500            \n",
      "NIMCLINIC                                          ChIJzwK4DbK3yhQRH3NsFk7tI0Y 305            \n",
      "Adem Köse - Hair Transplant Turkey                 ChIJ8enqACuJUEMRwLp5HL4J2rA 290            \n",
      "İstanbul Vita Saç Ekimi, Diş Tedavileri, Medikal Estetik ve Dermatoloji Polikliniği ChIJrYNSTejdyhQRqGWt0CaJg_g 282            \n",
      "Medart Hair Istanbul                               ChIJHfFICfy3yhQR6g4ryU3XcfM 262            \n",
      "Doctor Zen Clinic | Saç & Sakal Ekimi              ChIJ_diNGSS3yhQRXprL_mWE-w4 248            \n",
      "Hair City İstanbul Saç Ekimi                       ChIJnxs6tamlyhQRKCL5aEDhKmA 245            \n",
      "Be Safe Health - Saç Ekimi - Sağlık Turizmi        ChIJm-Be_oK3yhQReN8e0gVwENc 238            \n",
      "One Hair Clinic Transplantation - Plastic Esthetic ChIJx3keYUi9yhQRtLoObDzp1Ks 230            \n",
      "Saç Ekimi Merkezi Saç Ekim İstanbul - Songül Alcı  ChIJI9GBiRTIyhQROt4lDVVzGtQ 196            \n",
      "Arşimed Saç Ekimi                                  ChIJdzsQqeDIyhQRC9_mA31vYg8 187            \n",
      "Hairpol | Hair Transplant Clinic (Saç Ekimi Kliniği) ChIJA_WfM-rHyhQRngnOVFpDbi0 187            \n",
      "Ahmet Tosun Saç Ekimi (The Hair Clinicc)           ChIJ97BgC8i3yhQR-nOV2KMsIds 183            \n",
      "Estepalace Hair Transplant Center                  ChIJ8y4sNyC4yhQRyqbtQC91HHE 168            \n",
      "Avicenna Hastanesi Saç Ekim Merkezi                ChIJXXUrrb-6yhQRXfj7NVG-D9U 155            \n",
      "Este Sağlık Saç Ekim Merkezi | Hair Transplant Center | Saç Ekim Merkezi ChIJEaXKVOnEyhQR0itjBItvB6Y 153            \n",
      "Master Hair Transplant                             ChIJY6NAUIe3yhQR6aKJBu-iv0s 151            \n",
      "Hair Prosthesis. New Hair Loss Treatment Hair Prosthesis System ChIJmWPR4U-7yhQRyjlgO044jRc 134            \n",
      "Estevalley Saç Ekimi Merkezi İstanbul | Dhi Saç Ekimi, Sakal Ekimi, Saç Ekimi Fiyatları 2023 ChIJBeOwPqvcyhQRpnDE2SxMPXQ 129            \n",
      "İlhan Serdaroglu Saç Ekim Merkezi İstanbul         ChIJm1QU8gbHyhQRxoa3i63JFBY 125            \n",
      "Vialife Clinic | Poliklinik | Saç Ekimi | İp Askı | Dolgu | PRP | Diş Kliniği ChIJNzo-uY3HyhQR_lRf8KR80e8 110            \n",
      "HairextreM & Haydar Aslan Saç Ekimi                ChIJ0VNW2w63yhQR7Fa2A1ZKgJQ 106            \n",
      "Hair Transplant - Holiday Estetic - Best Hair Transplantation İstanbul ChIJ9TH-BX_FyhQRhUh02JKvMu8 104            \n",
      "--------------------------------------------------------------------------------\n",
      "Total establishments to scrape: 26\n",
      "Total reviews to scrape: 8486\n",
      "--------------------------------------------------------------------------------\n"
     ]
    }
   ],
   "source": [
    "config = scrape_google_reviews.load_config()['google_maps']\n",
    "establishments = scrape_google_reviews.get_establishments_to_scrape()\n",
    "if establishments.empty:\n",
    "    print(\"No establishments to scrape based on the criteria.\")\n",
    "# Display selected establishments\n",
    "print(\"\\nSelected establishments for scraping:\")\n",
    "print(\"-\" * 80)\n",
    "print(f\"{'Title':<50} {'Place ID':<20} {'Review Count':<15}\")\n",
    "print(\"-\" * 80)\n",
    "\n",
    "total_reviews = 0\n",
    "for _, establishment in establishments.iterrows():\n",
    "    print(f\"{establishment['title']:<50} {establishment['placeId']:<20} {establishment['reviewsCount']:<15}\")\n",
    "    total_reviews += establishment['reviewsCount']\n",
    "\n",
    "print(\"-\" * 80)\n",
    "print(f\"Total establishments to scrape: {len(establishments)}\")\n",
    "print(f\"Total reviews to scrape: {total_reviews}\")\n",
    "print(\"-\" * 80)\n"
   ]
  },
  {
   "cell_type": "code",
   "execution_count": 3,
   "metadata": {},
   "outputs": [
    {
     "name": "stdout",
     "output_type": "stream",
     "text": [
      "\n",
      "Starting scraping process...\n"
     ]
    }
   ],
   "source": [
    "\n",
    "# Check if confirmation is required\n",
    "if config['scraping_criteria'].get('require_confirmation', True):\n",
    "    while True:\n",
    "        response = input(\"\\nDo you want to proceed with scraping these establishments? (yes/no): \").lower()\n",
    "        if response in ['yes', 'y']:\n",
    "            print(\"\\nStarting scraping process...\")\n",
    "            break\n",
    "        elif response in ['no', 'n']:\n",
    "            print(\"\\nScraping cancelled by user.\")\n",
    "        else:\n",
    "            print(\"Please enter 'yes' or 'no'.\")\n",
    "else:\n",
    "    print(\"\\nStarting scraping process automatically (require_confirmation is set to false)...\")\n"
   ]
  },
  {
   "cell_type": "code",
   "execution_count": 4,
   "metadata": {},
   "outputs": [
    {
     "name": "stdout",
     "output_type": "stream",
     "text": [
      "Reviews saved to reviews/google/googleReviews_2025-04-05_11-40.xlsx\n",
      "Found existing unified file: reviews\\google\\allGoogleReviews_2025-04-05.xlsx\n",
      "Previously processed files: 4\n",
      "Processing new file: reviews\\google\\googleReviews_2025-04-05_11-40.xlsx\n",
      "Processed 1 new files\n",
      "\n",
      "Unified reviews saved to reviews/google/allGoogleReviews_2025-04-05.xlsx\n",
      "Total reviews in unified file: 15163\n"
     ]
    }
   ],
   "source": [
    "# Proceed with scraping\n",
    "reviews_df = scrape_google_reviews.scrape_reviews(establishments)\n",
    "scrape_google_reviews.save_reviews(reviews_df)\n",
    "scrape_google_reviews.unify_reviews()\n",
    "scrape_google_reviews.update_establishment_base()"
   ]
  },
  {
   "cell_type": "markdown",
   "metadata": {},
   "source": [
    "## Trustpilot"
   ]
  },
  {
   "cell_type": "code",
   "execution_count": 2,
   "metadata": {},
   "outputs": [],
   "source": [
    "establishments = scrape_trustpilot_reviews.get_establishments_to_scrape()\n",
    "if establishments.empty:\n",
    "    print(\"No establishments to scrape based on the criteria.\")"
   ]
  },
  {
   "cell_type": "code",
   "execution_count": 4,
   "metadata": {},
   "outputs": [
    {
     "ename": "KeyError",
     "evalue": "'min_delay'",
     "output_type": "error",
     "traceback": [
      "\u001b[1;31m---------------------------------------------------------------------------\u001b[0m",
      "\u001b[1;31mKeyError\u001b[0m                                  Traceback (most recent call last)",
      "Cell \u001b[1;32mIn[4], line 2\u001b[0m\n\u001b[0;32m      1\u001b[0m \u001b[38;5;66;03m# Run Trustpilot scraping\u001b[39;00m\n\u001b[1;32m----> 2\u001b[0m trustpilot_reviews_df \u001b[38;5;241m=\u001b[39m scrape_trustpilot_reviews\u001b[38;5;241m.\u001b[39mscrape_reviews(establishments)\n\u001b[0;32m      3\u001b[0m scrape_trustpilot_reviews\u001b[38;5;241m.\u001b[39msave_reviews(trustpilot_reviews_df)\n\u001b[0;32m      4\u001b[0m scrape_trustpilot_reviews\u001b[38;5;241m.\u001b[39munify_reviews()\n",
      "File \u001b[1;32mc:\\Users\\yigit\\Desktop\\Enterprises\\verisanus_2\\a_dev\\scrape_trustpilot_reviews.py:96\u001b[0m, in \u001b[0;36mscrape_reviews\u001b[1;34m(establishments)\u001b[0m\n\u001b[0;32m     89\u001b[0m \u001b[38;5;28;01mfor\u001b[39;00m _, establishment \u001b[38;5;129;01min\u001b[39;00m establishments\u001b[38;5;241m.\u001b[39miterrows():\n\u001b[0;32m     90\u001b[0m     company_domain \u001b[38;5;241m=\u001b[39m prepare_trustpilot_url(establishment[\u001b[38;5;124m'\u001b[39m\u001b[38;5;124mwebsite\u001b[39m\u001b[38;5;124m'\u001b[39m])\n\u001b[0;32m     92\u001b[0m     run_input \u001b[38;5;241m=\u001b[39m {\n\u001b[0;32m     93\u001b[0m         \u001b[38;5;124m\"\u001b[39m\u001b[38;5;124mcompanyDomain\u001b[39m\u001b[38;5;124m\"\u001b[39m: company_domain,\n\u001b[0;32m     94\u001b[0m         \u001b[38;5;124m\"\u001b[39m\u001b[38;5;124mstartPage\u001b[39m\u001b[38;5;124m\"\u001b[39m: config[\u001b[38;5;124m'\u001b[39m\u001b[38;5;124mapi_settings\u001b[39m\u001b[38;5;124m'\u001b[39m][\u001b[38;5;124m'\u001b[39m\u001b[38;5;124mstart_page\u001b[39m\u001b[38;5;124m'\u001b[39m],\n\u001b[0;32m     95\u001b[0m         \u001b[38;5;124m\"\u001b[39m\u001b[38;5;124mcount\u001b[39m\u001b[38;5;124m\"\u001b[39m: config[\u001b[38;5;124m'\u001b[39m\u001b[38;5;124mapi_settings\u001b[39m\u001b[38;5;124m'\u001b[39m][\u001b[38;5;124m'\u001b[39m\u001b[38;5;124mcount\u001b[39m\u001b[38;5;124m'\u001b[39m],\n\u001b[1;32m---> 96\u001b[0m         \u001b[38;5;124m\"\u001b[39m\u001b[38;5;124mminDelay\u001b[39m\u001b[38;5;124m\"\u001b[39m: config[\u001b[38;5;124m'\u001b[39m\u001b[38;5;124mapi_settings\u001b[39m\u001b[38;5;124m'\u001b[39m][\u001b[38;5;124m'\u001b[39m\u001b[38;5;124mmin_delay\u001b[39m\u001b[38;5;124m'\u001b[39m],\n\u001b[0;32m     97\u001b[0m         \u001b[38;5;124m\"\u001b[39m\u001b[38;5;124mreplies\u001b[39m\u001b[38;5;124m\"\u001b[39m: config[\u001b[38;5;124m'\u001b[39m\u001b[38;5;124mapi_settings\u001b[39m\u001b[38;5;124m'\u001b[39m][\u001b[38;5;124m'\u001b[39m\u001b[38;5;124mreplies\u001b[39m\u001b[38;5;124m'\u001b[39m],\n\u001b[0;32m     98\u001b[0m         \u001b[38;5;124m\"\u001b[39m\u001b[38;5;124msort\u001b[39m\u001b[38;5;124m\"\u001b[39m: config[\u001b[38;5;124m'\u001b[39m\u001b[38;5;124mapi_settings\u001b[39m\u001b[38;5;124m'\u001b[39m][\u001b[38;5;124m'\u001b[39m\u001b[38;5;124msort\u001b[39m\u001b[38;5;124m'\u001b[39m],\n\u001b[0;32m     99\u001b[0m         \u001b[38;5;124m\"\u001b[39m\u001b[38;5;124mverified\u001b[39m\u001b[38;5;124m\"\u001b[39m: config[\u001b[38;5;124m'\u001b[39m\u001b[38;5;124mapi_settings\u001b[39m\u001b[38;5;124m'\u001b[39m][\u001b[38;5;124m'\u001b[39m\u001b[38;5;124mverified\u001b[39m\u001b[38;5;124m'\u001b[39m]\n\u001b[0;32m    100\u001b[0m     }\n\u001b[0;32m    102\u001b[0m     run \u001b[38;5;241m=\u001b[39m client\u001b[38;5;241m.\u001b[39mactor(\u001b[38;5;124m\"\u001b[39m\u001b[38;5;124mfLXimoyuhE1UQgDbM\u001b[39m\u001b[38;5;124m\"\u001b[39m)\u001b[38;5;241m.\u001b[39mcall(run_input\u001b[38;5;241m=\u001b[39mrun_input)\n\u001b[0;32m    104\u001b[0m     \u001b[38;5;28;01mfor\u001b[39;00m item \u001b[38;5;129;01min\u001b[39;00m client\u001b[38;5;241m.\u001b[39mdataset(run[\u001b[38;5;124m\"\u001b[39m\u001b[38;5;124mdefaultDatasetId\u001b[39m\u001b[38;5;124m\"\u001b[39m])\u001b[38;5;241m.\u001b[39miterate_items():\n\u001b[0;32m    105\u001b[0m         \u001b[38;5;66;03m# Standardize dates\u001b[39;00m\n",
      "\u001b[1;31mKeyError\u001b[0m: 'min_delay'"
     ]
    }
   ],
   "source": [
    "# Run Trustpilot scraping\n",
    "trustpilot_reviews_df = scrape_trustpilot_reviews.scrape_reviews(establishments)\n",
    "scrape_trustpilot_reviews.save_reviews(trustpilot_reviews_df)\n",
    "scrape_trustpilot_reviews.unify_reviews()\n",
    "scrape_trustpilot_reviews.update_establishment_base()"
   ]
  },
  {
   "cell_type": "code",
   "execution_count": null,
   "metadata": {},
   "outputs": [],
   "source": []
  }
 ],
 "metadata": {
  "kernelspec": {
   "display_name": "base",
   "language": "python",
   "name": "python3"
  },
  "language_info": {
   "codemirror_mode": {
    "name": "ipython",
    "version": 3
   },
   "file_extension": ".py",
   "mimetype": "text/x-python",
   "name": "python",
   "nbconvert_exporter": "python",
   "pygments_lexer": "ipython3",
   "version": "3.11.4"
  }
 },
 "nbformat": 4,
 "nbformat_minor": 2
}
