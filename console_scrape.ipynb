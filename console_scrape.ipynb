{
 "cells": [
  {
   "cell_type": "code",
   "execution_count": 1,
   "metadata": {},
   "outputs": [],
   "source": [
    "import scrape_trustpilot_reviews\n",
    "import scrape_google_reviews\n",
    "import pandas as pd\n",
    "from datetime import datetime\n",
    "import sys"
   ]
  },
  {
   "cell_type": "code",
   "execution_count": 2,
   "metadata": {},
   "outputs": [
    {
     "name": "stdout",
     "output_type": "stream",
     "text": [
      "\n",
      "Selected establishments for scraping:\n",
      "--------------------------------------------------------------------------------\n",
      "Title                                              Place ID             Review Count   \n",
      "--------------------------------------------------------------------------------\n",
      "SULE CLINIC - Hair Transplant Turkey istanbul      ChIJuQbq64ewyhQRSEKVkD785Vk 1480           \n",
      "Acıbadem Saç Ekimi - Acibadem Hair Transplant      ChIJPdR-tVm3yhQRib1IxKDsfEI 1288           \n",
      "Özel Murat Makascı Polikliniği - Saç Ekimi         ChIJbWomqTXHyhQRI6n6JPQlKhs 1030           \n",
      "AKL Polikliniği Ataşehir | Saç Ekimi               ChIJE31xeTHGyhQRpddhgb2ARk8 500            \n",
      "NIMCLINIC                                          ChIJzwK4DbK3yhQRH3NsFk7tI0Y 305            \n",
      "Adem Köse - Hair Transplant Turkey                 ChIJ8enqACuJUEMRwLp5HL4J2rA 290            \n",
      "İstanbul Vita Saç Ekimi, Diş Tedavileri, Medikal Estetik ve Dermatoloji Polikliniği ChIJrYNSTejdyhQRqGWt0CaJg_g 282            \n",
      "Medart Hair Istanbul                               ChIJHfFICfy3yhQR6g4ryU3XcfM 262            \n",
      "Doctor Zen Clinic | Saç & Sakal Ekimi              ChIJ_diNGSS3yhQRXprL_mWE-w4 248            \n",
      "Hair City İstanbul Saç Ekimi                       ChIJnxs6tamlyhQRKCL5aEDhKmA 245            \n",
      "Be Safe Health - Saç Ekimi - Sağlık Turizmi        ChIJm-Be_oK3yhQReN8e0gVwENc 238            \n",
      "One Hair Clinic Transplantation - Plastic Esthetic ChIJx3keYUi9yhQRtLoObDzp1Ks 230            \n",
      "Saç Ekimi Merkezi Saç Ekim İstanbul - Songül Alcı  ChIJI9GBiRTIyhQROt4lDVVzGtQ 196            \n",
      "Arşimed Saç Ekimi                                  ChIJdzsQqeDIyhQRC9_mA31vYg8 187            \n",
      "Hairpol | Hair Transplant Clinic (Saç Ekimi Kliniği) ChIJA_WfM-rHyhQRngnOVFpDbi0 187            \n",
      "Ahmet Tosun Saç Ekimi (The Hair Clinicc)           ChIJ97BgC8i3yhQR-nOV2KMsIds 183            \n",
      "Estepalace Hair Transplant Center                  ChIJ8y4sNyC4yhQRyqbtQC91HHE 168            \n",
      "Avicenna Hastanesi Saç Ekim Merkezi                ChIJXXUrrb-6yhQRXfj7NVG-D9U 155            \n",
      "Este Sağlık Saç Ekim Merkezi | Hair Transplant Center | Saç Ekim Merkezi ChIJEaXKVOnEyhQR0itjBItvB6Y 153            \n",
      "Master Hair Transplant                             ChIJY6NAUIe3yhQR6aKJBu-iv0s 151            \n",
      "Hair Prosthesis. New Hair Loss Treatment Hair Prosthesis System ChIJmWPR4U-7yhQRyjlgO044jRc 134            \n",
      "Estevalley Saç Ekimi Merkezi İstanbul | Dhi Saç Ekimi, Sakal Ekimi, Saç Ekimi Fiyatları 2023 ChIJBeOwPqvcyhQRpnDE2SxMPXQ 129            \n",
      "İlhan Serdaroglu Saç Ekim Merkezi İstanbul         ChIJm1QU8gbHyhQRxoa3i63JFBY 125            \n",
      "Vialife Clinic | Poliklinik | Saç Ekimi | İp Askı | Dolgu | PRP | Diş Kliniği ChIJNzo-uY3HyhQR_lRf8KR80e8 110            \n",
      "HairextreM & Haydar Aslan Saç Ekimi                ChIJ0VNW2w63yhQR7Fa2A1ZKgJQ 106            \n",
      "Hair Transplant - Holiday Estetic - Best Hair Transplantation İstanbul ChIJ9TH-BX_FyhQRhUh02JKvMu8 104            \n",
      "--------------------------------------------------------------------------------\n",
      "Total establishments to scrape: 26\n",
      "Total reviews to scrape: 8486\n",
      "--------------------------------------------------------------------------------\n"
     ]
    }
   ],
   "source": [
    "config = scrape_google_reviews.load_config()['google_maps']\n",
    "establishments = scrape_google_reviews.get_establishments_to_scrape()\n",
    "if establishments.empty:\n",
    "    print(\"No establishments to scrape based on the criteria.\")\n",
    "# Display selected establishments\n",
    "print(\"\\nSelected establishments for scraping:\")\n",
    "print(\"-\" * 80)\n",
    "print(f\"{'Title':<50} {'Place ID':<20} {'Review Count':<15}\")\n",
    "print(\"-\" * 80)\n",
    "\n",
    "total_reviews = 0\n",
    "for _, establishment in establishments.iterrows():\n",
    "    print(f\"{establishment['title']:<50} {establishment['placeId']:<20} {establishment['reviewsCount']:<15}\")\n",
    "    total_reviews += establishment['reviewsCount']\n",
    "\n",
    "print(\"-\" * 80)\n",
    "print(f\"Total establishments to scrape: {len(establishments)}\")\n",
    "print(f\"Total reviews to scrape: {total_reviews}\")\n",
    "print(\"-\" * 80)\n"
   ]
  },
  {
   "cell_type": "code",
   "execution_count": 3,
   "metadata": {},
   "outputs": [
    {
     "name": "stdout",
     "output_type": "stream",
     "text": [
      "\n",
      "Starting scraping process...\n"
     ]
    }
   ],
   "source": [
    "\n",
    "# Check if confirmation is required\n",
    "if config['scraping_criteria'].get('require_confirmation', True):\n",
    "    while True:\n",
    "        response = input(\"\\nDo you want to proceed with scraping these establishments? (yes/no): \").lower()\n",
    "        if response in ['yes', 'y']:\n",
    "            print(\"\\nStarting scraping process...\")\n",
    "            break\n",
    "        elif response in ['no', 'n']:\n",
    "            print(\"\\nScraping cancelled by user.\")\n",
    "        else:\n",
    "            print(\"Please enter 'yes' or 'no'.\")\n",
    "else:\n",
    "    print(\"\\nStarting scraping process automatically (require_confirmation is set to false)...\")\n"
   ]
  },
  {
   "cell_type": "code",
   "execution_count": 4,
   "metadata": {},
   "outputs": [
    {
     "name": "stdout",
     "output_type": "stream",
     "text": [
      "Reviews saved to reviews/google/googleReviews_2025-04-05_11-40.xlsx\n",
      "Found existing unified file: reviews\\google\\allGoogleReviews_2025-04-05.xlsx\n",
      "Previously processed files: 4\n",
      "Processing new file: reviews\\google\\googleReviews_2025-04-05_11-40.xlsx\n",
      "Processed 1 new files\n",
      "\n",
      "Unified reviews saved to reviews/google/allGoogleReviews_2025-04-05.xlsx\n",
      "Total reviews in unified file: 15163\n"
     ]
    }
   ],
   "source": [
    "# Proceed with scraping\n",
    "reviews_df = scrape_google_reviews.scrape_reviews(establishments)\n",
    "scrape_google_reviews.save_reviews(reviews_df)\n",
    "scrape_google_reviews.unify_reviews()\n",
    "scrape_google_reviews.update_establishment_base()"
   ]
  },
  {
   "cell_type": "code",
   "execution_count": null,
   "metadata": {},
   "outputs": [],
   "source": []
  }
 ],
 "metadata": {
  "kernelspec": {
   "display_name": "base",
   "language": "python",
   "name": "python3"
  },
  "language_info": {
   "codemirror_mode": {
    "name": "ipython",
    "version": 3
   },
   "file_extension": ".py",
   "mimetype": "text/x-python",
   "name": "python",
   "nbconvert_exporter": "python",
   "pygments_lexer": "ipython3",
   "version": "3.11.4"
  }
 },
 "nbformat": 4,
 "nbformat_minor": 2
}
