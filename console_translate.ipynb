{
 "cells": [
  {
   "cell_type": "code",
   "execution_count": 1,
   "metadata": {},
   "outputs": [],
   "source": [
    "from translation_utils import translate_column\n",
    "import pandas as pd\n",
    "from datetime import datetime"
   ]
  },
  {
   "cell_type": "code",
   "execution_count": 6,
   "metadata": {},
   "outputs": [
    {
     "name": "stdout",
     "output_type": "stream",
     "text": [
      "Total characters in responseFromOwnerText: 262564\n"
     ]
    }
   ],
   "source": [
    "# Import allGoogleReviews_2025-04-05\n",
    "allGoogleReviews_2025_04_05 = pd.read_excel(\"reviews/google/allGoogleReviews_2025-04-05.xlsx\")\n",
    "\n",
    "# Filter out where originalLanguage is \"en\"\n",
    "filtered_df = allGoogleReviews_2025_04_05[allGoogleReviews_2025_04_05['originalLanguage'] != \"en\"]\n",
    "\n",
    "# Filter out where responseFromOwnerText is shorter than 5 characters\n",
    "filtered_df = filtered_df[filtered_df['responseFromOwnerText'].str.len() > 5]\n",
    "\n",
    "# Filter out where responseFromOwnerText_en is not null\n",
    "filtered_df = filtered_df[filtered_df['responseFromOwnerText_en'].isnull()]\n",
    "\n",
    "# Count the total number of characters in responseFromOwnerText\n",
    "total_characters = filtered_df['responseFromOwnerText'].str.len().sum()\n",
    "print(f\"Total characters in responseFromOwnerText: {total_characters}\")\n"
   ]
  },
  {
   "cell_type": "code",
   "execution_count": 3,
   "metadata": {},
   "outputs": [
    {
     "name": "stdout",
     "output_type": "stream",
     "text": [
      "Total characters in responseFromOwnerText: 449547\n"
     ]
    }
   ],
   "source": [
    "# If you want to limit the total characters to 450000, you need to select rows until you reach that limit\n",
    "if total_characters > 450000:\n",
    "    # Create a cumulative sum of character lengths\n",
    "    filtered_df['cumulative_chars'] = filtered_df['responseFromOwnerText'].str.len().cumsum()\n",
    "    # Filter to keep only rows where cumulative characters are less than 450000\n",
    "    filtered_df = filtered_df[filtered_df['cumulative_chars'] <= 450000]\n",
    "    # Remove the temporary column\n",
    "    filtered_df = filtered_df.drop('cumulative_chars', axis=1)\n",
    "\n",
    "# First count the total characters\n",
    "total_characters = filtered_df['responseFromOwnerText'].str.len().sum()\n",
    "print(f\"Total characters in responseFromOwnerText: {total_characters}\")\n"
   ]
  },
  {
   "cell_type": "code",
   "execution_count": 7,
   "metadata": {},
   "outputs": [],
   "source": [
    "# Find the difference between allGoogleReviews_2025-04-05 and filtered_df based on reviewId and save them to a new pd dataframe\n",
    "difference_df = allGoogleReviews_2025_04_05[~allGoogleReviews_2025_04_05['reviewId'].isin(filtered_df['reviewId'])]"
   ]
  },
  {
   "cell_type": "code",
   "execution_count": 8,
   "metadata": {},
   "outputs": [
    {
     "name": "stdout",
     "output_type": "stream",
     "text": [
      "Translating 1120 rows using DEEPSEEK...\n",
      "Total characters translated: 262564\n"
     ]
    }
   ],
   "source": [
    "# Get the translated DataFrame without saving\n",
    "translated_df, chars_translated = translate_column(\n",
    "    input_data=filtered_df,  # or file path\n",
    "    source_column=\"responseFromOwnerText\",\n",
    "    target_column=\"responseFromOwnerText_en\",  # optional\n",
    "    translation_service=\"deepseek\",  # \"deepl\" or \"deepseek\"\n",
    "    output_path=None  # Don't save, just return the DataFrame\n",
    ")\n",
    "\n",
    "# Do additional processing on translated_df\n",
    "# Combine the translated_df with the difference_df based on reviewId\n",
    "combined_df = pd.concat([difference_df, translated_df])\n",
    "\n",
    "# Save the processed DataFrame when you're ready\n",
    "output_path = \"C:/Users/yigit/Desktop/Enterprises/verisanus_2/a_dev/reviews/google/processed_reviews.xlsx\"\n",
    "combined_df.to_excel(output_path, index=False)"
   ]
  },
  {
   "cell_type": "code",
   "execution_count": null,
   "metadata": {},
   "outputs": [],
   "source": []
  }
 ],
 "metadata": {
  "kernelspec": {
   "display_name": "base",
   "language": "python",
   "name": "python3"
  },
  "language_info": {
   "codemirror_mode": {
    "name": "ipython",
    "version": 3
   },
   "file_extension": ".py",
   "mimetype": "text/x-python",
   "name": "python",
   "nbconvert_exporter": "python",
   "pygments_lexer": "ipython3",
   "version": "3.11.4"
  }
 },
 "nbformat": 4,
 "nbformat_minor": 2
}
