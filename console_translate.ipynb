{
 "cells": [
  {
   "cell_type": "code",
   "execution_count": 14,
   "metadata": {},
   "outputs": [],
   "source": [
    "from translation_utils import translate_column\n",
    "import pandas as pd\n",
    "from datetime import datetime"
   ]
  },
  {
   "cell_type": "markdown",
   "metadata": {},
   "source": [
    "## Google Translation"
   ]
  },
  {
   "cell_type": "code",
   "execution_count": 16,
   "metadata": {},
   "outputs": [
    {
     "name": "stdout",
     "output_type": "stream",
     "text": [
      "Total characters in responseFromOwnerText: 142\n"
     ]
    }
   ],
   "source": [
    "# Import allGoogleReviews_2025-04-05\n",
    "allGoogleReviews_2025_04_06 = pd.read_excel(\"reviews/google/allGoogleReviews_2025-04-06.xlsx\")\n",
    "\n",
    "# Filter out where originalLanguage is \"en\"\n",
    "filtered_df = allGoogleReviews_2025_04_06[allGoogleReviews_2025_04_06['originalLanguage'] != \"en\"]\n",
    "\n",
    "# Filter out where responseFromOwnerText is shorter than 5 characters\n",
    "filtered_df = filtered_df[filtered_df['responseFromOwnerText'].str.len() > 5]\n",
    "\n",
    "# Filter out where responseFromOwnerText_en is not null\n",
    "filtered_df = filtered_df[filtered_df['responseFromOwnerText_en'].isnull()]\n",
    "\n",
    "# Count the total number of characters in responseFromOwnerText\n",
    "total_characters = filtered_df['responseFromOwnerText'].str.len().sum()\n",
    "print(f\"Total characters in responseFromOwnerText: {total_characters}\")\n"
   ]
  },
  {
   "cell_type": "code",
   "execution_count": 17,
   "metadata": {},
   "outputs": [
    {
     "name": "stdout",
     "output_type": "stream",
     "text": [
      "Total characters in responseFromOwnerText: 142\n"
     ]
    }
   ],
   "source": [
    "# If you want to limit the total characters to 450000, you need to select rows until you reach that limit\n",
    "if total_characters > 450000:\n",
    "    # Create a cumulative sum of character lengths\n",
    "    filtered_df['cumulative_chars'] = filtered_df['responseFromOwnerText'].str.len().cumsum()\n",
    "    # Filter to keep only rows where cumulative characters are less than 450000\n",
    "    filtered_df = filtered_df[filtered_df['cumulative_chars'] <= 450000]\n",
    "    # Remove the temporary column\n",
    "    filtered_df = filtered_df.drop('cumulative_chars', axis=1)\n",
    "\n",
    "# First count the total characters\n",
    "total_characters = filtered_df['responseFromOwnerText'].str.len().sum()\n",
    "print(f\"Total characters in responseFromOwnerText: {total_characters}\")\n"
   ]
  },
  {
   "cell_type": "code",
   "execution_count": 18,
   "metadata": {},
   "outputs": [],
   "source": [
    "# Find the difference between allGoogleReviews_2025-04-05 and filtered_df based on reviewId and save them to a new pd dataframe\n",
    "difference_df = allGoogleReviews_2025_04_06[~allGoogleReviews_2025_04_06['reviewId'].isin(filtered_df['reviewId'])]"
   ]
  },
  {
   "cell_type": "code",
   "execution_count": 19,
   "metadata": {},
   "outputs": [
    {
     "name": "stdout",
     "output_type": "stream",
     "text": [
      "Translating 3 rows using DEEPSEEK...\n",
      "Total characters translated: 142\n"
     ]
    }
   ],
   "source": [
    "# Get the translated DataFrame without saving\n",
    "translated_df, chars_translated = translate_column(\n",
    "    input_data=filtered_df,  # or file path\n",
    "    source_column=\"responseFromOwnerText\",\n",
    "    target_column=\"responseFromOwnerText_en\",  # optional\n",
    "    translation_service=\"deepseek\",  # \"deepl\" or \"deepseek\"\n",
    "    output_path=None  # Don't save, just return the DataFrame\n",
    ")\n",
    "\n",
    "# Do additional processing on translated_df\n",
    "# Combine the translated_df with the difference_df based on reviewId\n",
    "combined_df = pd.concat([difference_df, translated_df])\n",
    "\n",
    "# Save the processed DataFrame when you're ready\n",
    "output_path = \"C:/Users/yigit/Desktop/Enterprises/verisanus_2/a_dev/reviews/google/processed_reviews.xlsx\"\n",
    "combined_df.to_excel(output_path, index=False)"
   ]
  },
  {
   "cell_type": "code",
   "execution_count": null,
   "metadata": {},
   "outputs": [],
   "source": []
  },
  {
   "cell_type": "markdown",
   "metadata": {},
   "source": [
    "## Trustpilot Translation"
   ]
  },
  {
   "cell_type": "markdown",
   "metadata": {},
   "source": [
    "### replyMessage"
   ]
  },
  {
   "cell_type": "code",
   "execution_count": null,
   "metadata": {},
   "outputs": [],
   "source": [
    "# replyMessage,\treviewBody,\treviewHeadline\n"
   ]
  },
  {
   "cell_type": "code",
   "execution_count": null,
   "metadata": {},
   "outputs": [
    {
     "name": "stdout",
     "output_type": "stream",
     "text": [
      "Total characters in replyMessage: 24246\n"
     ]
    }
   ],
   "source": [
    "# Translate the replyMessage column in allTrustpilotReviews_2025-04-06 to English, using deepseek. Save the result to a new column called replyMessage_en\n",
    "# The input file is located at reviews/trustpilot/allTrustpilotReviews_2025-04-06.xlsx. The output file should be saved as processed_trustpilot_reviews.xlsx in the same directory.\n",
    "allTrustpilotReviews_2025_04_06 = pd.read_excel(\"reviews/trustpilot/allTrustpilotReviews_2025-04-06.xlsx\")\n",
    "# Filter out where originalLanguage is \"en\"\n",
    "filtered_df = allTrustpilotReviews_2025_04_06[allTrustpilotReviews_2025_04_06['reviewLanguage'] != \"en\"]\n",
    "# Filter out where replyMessage is shorter than 5 characters\n",
    "filtered_df = filtered_df[filtered_df['replyMessage'].str.len() > 5]\n",
    "# Filter out where replyMessage_en is not null\n",
    "filtered_df = filtered_df[filtered_df['replyMessage_en'].isnull()]\n",
    "# Count the total number of characters in replyMessage\n",
    "total_characters = filtered_df['replyMessage'].str.len().sum()\n",
    "print(f\"Total characters in replyMessage: {total_characters}\")\n",
    "\n"
   ]
  },
  {
   "cell_type": "code",
   "execution_count": 4,
   "metadata": {},
   "outputs": [
    {
     "name": "stdout",
     "output_type": "stream",
     "text": [
      "Translating 101 rows using DEEPSEEK...\n"
     ]
    },
    {
     "name": "stderr",
     "output_type": "stream",
     "text": [
      "c:\\Users\\yigit\\Desktop\\Enterprises\\verisanus_2\\a_dev\\translation_utils.py:164: FutureWarning: Setting an item of incompatible dtype is deprecated and will raise in a future error of pandas. Value 'Dear Lorenzo, thank you so much for your review! 🙏🏻🙏🏻🙏🏻🤩🤩🤩' has dtype incompatible with float64, please explicitly cast to a compatible dtype first.\n",
      "  df.loc[idx, target_column] = translated_text\n"
     ]
    },
    {
     "name": "stdout",
     "output_type": "stream",
     "text": [
      "Total characters translated: 24246\n"
     ]
    }
   ],
   "source": [
    "# Find the difference between allTrustpilotReviews_2025-04-06 and filtered_df based on reviewId and save them to a new pd dataframe\n",
    "difference_df = allTrustpilotReviews_2025_04_06[~allTrustpilotReviews_2025_04_06['reviewId'].isin(filtered_df['reviewId'])]\n",
    "# Get the translated DataFrame without saving\n",
    "translated_df, chars_translated = translate_column(\n",
    "    input_data=filtered_df,  # or file path\n",
    "    source_column=\"replyMessage\",\n",
    "    target_column=\"replyMessage_en\",  # optional\n",
    "    translation_service=\"deepseek\",  # \"deepl\" or \"deepseek\"\n",
    "    output_path=None  # Don't save, just return the DataFrame\n",
    ")\n",
    "# Do additional processing on translated_df\n",
    "# Combine the translated_df with the difference_df based on reviewId\n",
    "combined_df = pd.concat([difference_df, translated_df])"
   ]
  },
  {
   "cell_type": "code",
   "execution_count": 7,
   "metadata": {},
   "outputs": [],
   "source": [
    "# Save the processed DataFrame when you're ready\n",
    "output_path = \"C:/Users/yigit/Desktop/Enterprises/verisanus_2/a_dev/reviews/trustpilot/allTrustpilotReviews_2025-04-06.xlsx\"\n",
    "combined_df.to_excel(output_path, index=False)"
   ]
  },
  {
   "cell_type": "markdown",
   "metadata": {},
   "source": [
    "### reviewBody"
   ]
  },
  {
   "cell_type": "code",
   "execution_count": 8,
   "metadata": {},
   "outputs": [
    {
     "name": "stdout",
     "output_type": "stream",
     "text": [
      "Total characters in reviewBody: 148933\n"
     ]
    }
   ],
   "source": [
    "# Translate the reviewBody column in allTrustpilotReviews_2025-04-06 to English, using deepseek. Save the result to a new column called reviewBody\n",
    "# The input file is located at reviews/trustpilot/allTrustpilotReviews_2025-04-06.xlsx. The output file should be saved as processed_trustpilot_reviews.xlsx in the same directory.\n",
    "allTrustpilotReviews_2025_04_06 = pd.read_excel(\"reviews/trustpilot/allTrustpilotReviews_2025-04-06.xlsx\")\n",
    "# Filter out where originalLanguage is \"en\"\n",
    "filtered_df = allTrustpilotReviews_2025_04_06[allTrustpilotReviews_2025_04_06['reviewLanguage'] != \"en\"]\n",
    "# Filter out where reviewBody is shorter than 5 characters\n",
    "filtered_df = filtered_df[filtered_df['reviewBody'].str.len() > 5]\n",
    "# Filter out where reviewBody_en is not null\n",
    "filtered_df = filtered_df[filtered_df['reviewBody_en'].isnull()]\n",
    "# Count the total number of characters in reviewBody\n",
    "total_characters = filtered_df['reviewBody'].str.len().sum()\n",
    "print(f\"Total characters in reviewBody: {total_characters}\")\n",
    "\n"
   ]
  },
  {
   "cell_type": "code",
   "execution_count": 9,
   "metadata": {},
   "outputs": [
    {
     "name": "stdout",
     "output_type": "stream",
     "text": [
      "Translating 295 rows using DEEPSEEK...\n"
     ]
    },
    {
     "name": "stderr",
     "output_type": "stream",
     "text": [
      "c:\\Users\\yigit\\Desktop\\Enterprises\\verisanus_2\\a_dev\\translation_utils.py:164: FutureWarning: Setting an item of incompatible dtype is deprecated and will raise in a future error of pandas. Value 'I underwent the transplant at Hair of Istanbul in April 2023. They picked me up with a private driver and the very kind Chala, the clinic's interpreter and assistant, who never left me alone for a moment. After checking the donor area, the procedure began and lasted about 8 hours. Extremely professional. Of course, at the moment, I cannot judge the level of results because I had the surgery recently, and it will take a few months to see the actual outcome. However, I can say that I was followed from the first to the last moment. Even in the days following the surgery, as soon as I returned, I interacted with the clinic and always found them extremely available.' has dtype incompatible with float64, please explicitly cast to a compatible dtype first.\n",
      "  df.loc[idx, target_column] = translated_text\n"
     ]
    },
    {
     "name": "stdout",
     "output_type": "stream",
     "text": [
      "Total characters translated: 148933\n"
     ]
    }
   ],
   "source": [
    "# Find the difference between allTrustpilotReviews_2025-04-06 and filtered_df based on reviewId and save them to a new pd dataframe\n",
    "difference_df = allTrustpilotReviews_2025_04_06[~allTrustpilotReviews_2025_04_06['reviewId'].isin(filtered_df['reviewId'])]\n",
    "# Get the translated DataFrame without saving\n",
    "translated_df, chars_translated = translate_column(\n",
    "    input_data=filtered_df,  # or file path\n",
    "    source_column=\"reviewBody\",\n",
    "    target_column=\"reviewBody_en\",  # optional\n",
    "    translation_service=\"deepseek\",  # \"deepl\" or \"deepseek\"\n",
    "    output_path=None  # Don't save, just return the DataFrame\n",
    ")\n",
    "# Do additional processing on translated_df\n",
    "# Combine the translated_df with the difference_df based on reviewId\n",
    "combined_df = pd.concat([difference_df, translated_df])"
   ]
  },
  {
   "cell_type": "code",
   "execution_count": 10,
   "metadata": {},
   "outputs": [],
   "source": [
    "# Save the processed DataFrame when you're ready\n",
    "output_path = \"C:/Users/yigit/Desktop/Enterprises/verisanus_2/a_dev/reviews/trustpilot/allTrustpilotReviews_2025-04-06.xlsx\"\n",
    "combined_df.to_excel(output_path, index=False)"
   ]
  },
  {
   "cell_type": "markdown",
   "metadata": {},
   "source": [
    "### reviewHeadline"
   ]
  },
  {
   "cell_type": "code",
   "execution_count": 11,
   "metadata": {},
   "outputs": [
    {
     "name": "stdout",
     "output_type": "stream",
     "text": [
      "Total characters in reviewHeadline: 8446\n"
     ]
    }
   ],
   "source": [
    "# Translate the reviewHeadline column in allTrustpilotReviews_2025-04-06 to English, using deepseek. Save the result to a new column called replyMessage_en\n",
    "# The input file is located at reviews/trustpilot/allTrustpilotReviews_2025-04-06.xlsx. The output file should be saved as processed_trustpilot_reviews.xlsx in the same directory.\n",
    "allTrustpilotReviews_2025_04_06 = pd.read_excel(\"reviews/trustpilot/allTrustpilotReviews_2025-04-06.xlsx\")\n",
    "# Filter out where originalLanguage is \"en\"\n",
    "filtered_df = allTrustpilotReviews_2025_04_06[allTrustpilotReviews_2025_04_06['reviewLanguage'] != \"en\"]\n",
    "# Filter out where reviewHeadline is shorter than 5 characters\n",
    "filtered_df = filtered_df[filtered_df['reviewHeadline'].str.len() > 5]\n",
    "# Filter out where reviewHeadline is not null\n",
    "filtered_df = filtered_df[filtered_df['reviewHeadline_en'].isnull()]\n",
    "# Count the total number of characters in reviewHeadline\n",
    "total_characters = filtered_df['reviewHeadline'].str.len().sum()\n",
    "print(f\"Total characters in reviewHeadline: {total_characters}\")\n",
    "\n"
   ]
  },
  {
   "cell_type": "code",
   "execution_count": 12,
   "metadata": {},
   "outputs": [
    {
     "name": "stdout",
     "output_type": "stream",
     "text": [
      "Translating 293 rows using DEEPSEEK...\n"
     ]
    },
    {
     "name": "stderr",
     "output_type": "stream",
     "text": [
      "c:\\Users\\yigit\\Desktop\\Enterprises\\verisanus_2\\a_dev\\translation_utils.py:164: FutureWarning: Setting an item of incompatible dtype is deprecated and will raise in a future error of pandas. Value 'Hair of Istanbul …' has dtype incompatible with float64, please explicitly cast to a compatible dtype first.\n",
      "  df.loc[idx, target_column] = translated_text\n"
     ]
    },
    {
     "name": "stdout",
     "output_type": "stream",
     "text": [
      "Total characters translated: 8446\n"
     ]
    }
   ],
   "source": [
    "# Find the difference between allTrustpilotReviews_2025-04-06 and filtered_df based on reviewId and save them to a new pd dataframe\n",
    "difference_df = allTrustpilotReviews_2025_04_06[~allTrustpilotReviews_2025_04_06['reviewId'].isin(filtered_df['reviewId'])]\n",
    "# Get the translated DataFrame without saving\n",
    "translated_df, chars_translated = translate_column(\n",
    "    input_data=filtered_df,  # or file path\n",
    "    source_column=\"reviewHeadline\",\n",
    "    target_column=\"reviewHeadline_en\",  # optional\n",
    "    translation_service=\"deepseek\",  # \"deepl\" or \"deepseek\"\n",
    "    output_path=None  # Don't save, just return the DataFrame\n",
    ")\n",
    "# Do additional processing on translated_df\n",
    "# Combine the translated_df with the difference_df based on reviewId\n",
    "combined_df = pd.concat([difference_df, translated_df])"
   ]
  },
  {
   "cell_type": "code",
   "execution_count": 13,
   "metadata": {},
   "outputs": [],
   "source": [
    "# Save the processed DataFrame when you're ready\n",
    "output_path = \"C:/Users/yigit/Desktop/Enterprises/verisanus_2/a_dev/reviews/trustpilot/allTrustpilotReviews_2025-04-06.xlsx\"\n",
    "combined_df.to_excel(output_path, index=False)"
   ]
  },
  {
   "cell_type": "code",
   "execution_count": null,
   "metadata": {},
   "outputs": [],
   "source": []
  }
 ],
 "metadata": {
  "kernelspec": {
   "display_name": "base",
   "language": "python",
   "name": "python3"
  },
  "language_info": {
   "codemirror_mode": {
    "name": "ipython",
    "version": 3
   },
   "file_extension": ".py",
   "mimetype": "text/x-python",
   "name": "python",
   "nbconvert_exporter": "python",
   "pygments_lexer": "ipython3",
   "version": "3.11.4"
  }
 },
 "nbformat": 4,
 "nbformat_minor": 2
}
