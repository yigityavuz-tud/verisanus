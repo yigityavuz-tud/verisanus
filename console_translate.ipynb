{
 "cells": [
  {
   "cell_type": "code",
   "execution_count": 1,
   "metadata": {},
   "outputs": [],
   "source": [
    "from translation_utils import translate_column\n",
    "import pandas as pd\n",
    "from datetime import datetime"
   ]
  },
  {
   "cell_type": "code",
   "execution_count": 2,
   "metadata": {},
   "outputs": [
    {
     "name": "stdout",
     "output_type": "stream",
     "text": [
      "Total characters in responseFromOwnerText: 711884\n"
     ]
    }
   ],
   "source": [
    "# Import allGoogleReviews_2025-04-05\n",
    "allGoogleReviews_2025_04_05 = pd.read_excel(\"reviews/google/allGoogleReviews_2025-04-05.xlsx\")\n",
    "\n",
    "# Filter out where originalLanguage is \"en\"\n",
    "filtered_df = allGoogleReviews_2025_04_05[allGoogleReviews_2025_04_05['originalLanguage'] != \"en\"]\n",
    "\n",
    "# Filter out where responseFromOwnerText is shorter than 5 characters\n",
    "filtered_df = filtered_df[filtered_df['responseFromOwnerText'].str.len() > 5]\n",
    "\n",
    "# Filter out where responseFromOwnerText_en is not null\n",
    "filtered_df = filtered_df[filtered_df['responseFromOwnerText_en'].isnull()]\n",
    "\n",
    "# Count the total number of characters in responseFromOwnerText\n",
    "total_characters = filtered_df['responseFromOwnerText'].str.len().sum()\n",
    "print(f\"Total characters in responseFromOwnerText: {total_characters}\")\n"
   ]
  },
  {
   "cell_type": "code",
   "execution_count": 3,
   "metadata": {},
   "outputs": [
    {
     "name": "stdout",
     "output_type": "stream",
     "text": [
      "Total characters in responseFromOwnerText: 449547\n"
     ]
    }
   ],
   "source": [
    "# If you want to limit the total characters to 450000, you need to select rows until you reach that limit\n",
    "if total_characters > 450000:\n",
    "    # Create a cumulative sum of character lengths\n",
    "    filtered_df['cumulative_chars'] = filtered_df['responseFromOwnerText'].str.len().cumsum()\n",
    "    # Filter to keep only rows where cumulative characters are less than 450000\n",
    "    filtered_df = filtered_df[filtered_df['cumulative_chars'] <= 450000]\n",
    "    # Remove the temporary column\n",
    "    filtered_df = filtered_df.drop('cumulative_chars', axis=1)\n",
    "\n",
    "# First count the total characters\n",
    "total_characters = filtered_df['responseFromOwnerText'].str.len().sum()\n",
    "print(f\"Total characters in responseFromOwnerText: {total_characters}\")\n"
   ]
  },
  {
   "cell_type": "code",
   "execution_count": 4,
   "metadata": {},
   "outputs": [],
   "source": [
    "# Find the difference between allGoogleReviews_2025-04-05 and filtered_df based on reviewId and save them to a new pd dataframe\n",
    "difference_df = allGoogleReviews_2025_04_05[~allGoogleReviews_2025_04_05['reviewId'].isin(filtered_df['reviewId'])]"
   ]
  },
  {
   "cell_type": "code",
   "execution_count": 5,
   "metadata": {},
   "outputs": [
    {
     "ename": "KeyError",
     "evalue": "'api_settings'",
     "output_type": "error",
     "traceback": [
      "\u001b[1;31m---------------------------------------------------------------------------\u001b[0m",
      "\u001b[1;31mKeyError\u001b[0m                                  Traceback (most recent call last)",
      "Cell \u001b[1;32mIn[5], line 2\u001b[0m\n\u001b[0;32m      1\u001b[0m \u001b[38;5;66;03m# Get the translated DataFrame without saving\u001b[39;00m\n\u001b[1;32m----> 2\u001b[0m translated_df, chars_translated \u001b[38;5;241m=\u001b[39m translate_column(\n\u001b[0;32m      3\u001b[0m     input_data\u001b[38;5;241m=\u001b[39mfiltered_df,  \u001b[38;5;66;03m# or file path\u001b[39;00m\n\u001b[0;32m      4\u001b[0m     source_column\u001b[38;5;241m=\u001b[39m\u001b[38;5;124m\"\u001b[39m\u001b[38;5;124mresponseFromOwnerText\u001b[39m\u001b[38;5;124m\"\u001b[39m,\n\u001b[0;32m      5\u001b[0m     target_column\u001b[38;5;241m=\u001b[39m\u001b[38;5;124m\"\u001b[39m\u001b[38;5;124mresponseFromOwnerText_en\u001b[39m\u001b[38;5;124m\"\u001b[39m,  \u001b[38;5;66;03m# optional\u001b[39;00m\n\u001b[0;32m      6\u001b[0m     translation_service\u001b[38;5;241m=\u001b[39m\u001b[38;5;124m\"\u001b[39m\u001b[38;5;124mdeepl\u001b[39m\u001b[38;5;124m\"\u001b[39m,  \u001b[38;5;66;03m# optional\u001b[39;00m\n\u001b[0;32m      7\u001b[0m     output_path\u001b[38;5;241m=\u001b[39m\u001b[38;5;28;01mNone\u001b[39;00m  \u001b[38;5;66;03m# Don't save, just return the DataFrame\u001b[39;00m\n\u001b[0;32m      8\u001b[0m )\n\u001b[0;32m     10\u001b[0m \u001b[38;5;66;03m# Do additional processing on translated_df\u001b[39;00m\n\u001b[0;32m     11\u001b[0m \u001b[38;5;66;03m# Combine the translated_df with the difference_df based on reviewId\u001b[39;00m\n\u001b[0;32m     12\u001b[0m combined_df \u001b[38;5;241m=\u001b[39m pd\u001b[38;5;241m.\u001b[39mconcat([difference_df, translated_df])\n",
      "File \u001b[1;32mc:\\Users\\yigit\\Desktop\\Enterprises\\verisanus_2\\a_dev\\translation_utils.py:127\u001b[0m, in \u001b[0;36mtranslate_column\u001b[1;34m(input_data, source_column, target_column, target_language, translation_service, suffix, output_path)\u001b[0m\n\u001b[0;32m    124\u001b[0m deepseek_token \u001b[38;5;241m=\u001b[39m \u001b[38;5;28;01mNone\u001b[39;00m\n\u001b[0;32m    126\u001b[0m \u001b[38;5;28;01mif\u001b[39;00m translation_service \u001b[38;5;241m==\u001b[39m \u001b[38;5;124m'\u001b[39m\u001b[38;5;124mdeepl\u001b[39m\u001b[38;5;124m'\u001b[39m:\n\u001b[1;32m--> 127\u001b[0m     translator \u001b[38;5;241m=\u001b[39m deepl\u001b[38;5;241m.\u001b[39mTranslator(get_deepl_token())\n\u001b[0;32m    128\u001b[0m \u001b[38;5;28;01melse\u001b[39;00m:  \u001b[38;5;66;03m# deepseek\u001b[39;00m\n\u001b[0;32m    129\u001b[0m     deepseek_token \u001b[38;5;241m=\u001b[39m get_deepseek_token()\n",
      "File \u001b[1;32mc:\\Users\\yigit\\Desktop\\Enterprises\\verisanus_2\\a_dev\\translation_utils.py:15\u001b[0m, in \u001b[0;36mget_deepl_token\u001b[1;34m()\u001b[0m\n\u001b[0;32m     13\u001b[0m \u001b[38;5;28;01mdef\u001b[39;00m \u001b[38;5;21mget_deepl_token\u001b[39m():\n\u001b[0;32m     14\u001b[0m     config \u001b[38;5;241m=\u001b[39m load_config()\n\u001b[1;32m---> 15\u001b[0m     token_file \u001b[38;5;241m=\u001b[39m config[\u001b[38;5;124m'\u001b[39m\u001b[38;5;124mapi_settings\u001b[39m\u001b[38;5;124m'\u001b[39m][\u001b[38;5;124m'\u001b[39m\u001b[38;5;124mdeepl_token_file\u001b[39m\u001b[38;5;124m'\u001b[39m]\n\u001b[0;32m     16\u001b[0m     \u001b[38;5;28;01mtry\u001b[39;00m:\n\u001b[0;32m     17\u001b[0m         \u001b[38;5;28;01mwith\u001b[39;00m \u001b[38;5;28mopen\u001b[39m(token_file, \u001b[38;5;124m'\u001b[39m\u001b[38;5;124mr\u001b[39m\u001b[38;5;124m'\u001b[39m) \u001b[38;5;28;01mas\u001b[39;00m file:\n",
      "\u001b[1;31mKeyError\u001b[0m: 'api_settings'"
     ]
    }
   ],
   "source": [
    "# Get the translated DataFrame without saving\n",
    "translated_df, chars_translated = translate_column(\n",
    "    input_data=filtered_df,  # or file path\n",
    "    source_column=\"responseFromOwnerText\",\n",
    "    target_column=\"responseFromOwnerText_en\",  # optional\n",
    "    translation_service=\"deepl\",  # optional\n",
    "    output_path=None  # Don't save, just return the DataFrame\n",
    ")\n",
    "\n",
    "# Do additional processing on translated_df\n",
    "# Combine the translated_df with the difference_df based on reviewId\n",
    "combined_df = pd.concat([difference_df, translated_df])\n",
    "\n",
    "# Save the processed DataFrame when you're ready\n",
    "output_path = \"C:/Users/yigit/Desktop/Enterprises/verisanus_2/a_dev/reviews/google/processed_reviews.xlsx\"\n",
    "combined_df.to_excel(output_path, index=False)"
   ]
  },
  {
   "cell_type": "code",
   "execution_count": null,
   "metadata": {},
   "outputs": [],
   "source": []
  }
 ],
 "metadata": {
  "kernelspec": {
   "display_name": "base",
   "language": "python",
   "name": "python3"
  },
  "language_info": {
   "codemirror_mode": {
    "name": "ipython",
    "version": 3
   },
   "file_extension": ".py",
   "mimetype": "text/x-python",
   "name": "python",
   "nbconvert_exporter": "python",
   "pygments_lexer": "ipython3",
   "version": "3.11.4"
  }
 },
 "nbformat": 4,
 "nbformat_minor": 2
}
