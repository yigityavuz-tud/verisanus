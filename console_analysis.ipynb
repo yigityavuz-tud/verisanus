{
 "cells": [
  {
   "cell_type": "code",
   "execution_count": null,
   "metadata": {},
   "outputs": [],
   "source": [
    "import pandas as pd\n",
    "import numpy as np\n",
    "from review_analyzer import ReviewAnalyzer\n",
    "from datetime import datetime\n",
    "\n",
    "# Initialize the analyzer with your data files\n",
    "analyzer = ReviewAnalyzer(\n",
    "    google_maps_file=\"reviews/google/allGoogleReviews_2025-04-05.xlsx\",\n",
    "    trustpilot_file=\"reviews/trustpilot/allTrustpilotReviews_2025-04-05.xlsx\",\n",
    "    establishment_file=\"establishments/establishments_base.xlsx\"\n",
    ")"
   ]
  },
  {
   "cell_type": "markdown",
   "metadata": {},
   "source": [
    "## 1. Basic Metrics Analysis"
   ]
  },
  {
   "cell_type": "code",
   "execution_count": null,
   "metadata": {},
   "outputs": [],
   "source": [
    "# Calculate basic metrics\n",
    "basic_metrics = analyzer.calculate_basic_metrics()\n",
    "print(\"\\nBasic Metrics Summary:\")\n",
    "print(\"-\" * 80)\n",
    "display(basic_metrics[['title', 'total_reviews', 'avg_rating', 'rating_std', 'response_rate', 'avg_response_time']].head(10))"
   ]
  },
  {
   "cell_type": "markdown",
   "metadata": {},
   "source": [
    "## 2. Sentiment Analysis"
   ]
  },
  {
   "cell_type": "code",
   "execution_count": null,
   "metadata": {},
   "outputs": [],
   "source": [
    "# Calculate sentiment metrics\n",
    "sentiment_metrics = analyzer.calculate_sentiment_metrics()\n",
    "print(\"\\nSentiment Analysis Summary:\")\n",
    "print(\"-\" * 80)\n",
    "display(sentiment_metrics[['title', 'avg_sentiment', 'positive_review_pct', 'negative_review_pct', 'sentiment_trend']].head(10))"
   ]
  },
  {
   "cell_type": "markdown",
   "metadata": {},
   "source": [
    "## 3. Aspect-Based Sentiment Analysis"
   ]
  },
  {
   "cell_type": "code",
   "execution_count": null,
   "metadata": {},
   "outputs": [],
   "source": [
    "# Calculate aspect-based sentiment\n",
    "aspect_metrics = analyzer.calculate_aspect_sentiment()\n",
    "print(\"\\nAspect-Based Sentiment Analysis:\")\n",
    "print(\"-\" * 80)\n",
    "display(aspect_metrics[['title', 'service_sentiment', 'quality_sentiment', 'price_sentiment', 'ambiance_sentiment']].head(10))"
   ]
  },
  {
   "cell_type": "markdown",
   "metadata": {},
   "source": [
    "## 4. Temporal Pattern Analysis"
   ]
  },
  {
   "cell_type": "code",
   "execution_count": null,
   "metadata": {},
   "outputs": [],
   "source": [
    "# Analyze temporal patterns\n",
    "temporal_metrics = analyzer.analyze_temporal_patterns()\n",
    "print(\"\\nTemporal Pattern Analysis:\")\n",
    "print(\"-\" * 80)\n",
    "display(temporal_metrics[['title', 'rating_trend', 'sentiment_trend', 'has_seasonality', 'seasonal_pattern']].head(10))"
   ]
  },
  {
   "cell_type": "markdown",
   "metadata": {},
   "source": [
    "## 5. Review Authenticity Analysis"
   ]
  },
  {
   "cell_type": "code",
   "execution_count": null,
   "metadata": {},
   "outputs": [],
   "source": [
    "# Detect review authenticity\n",
    "authenticity_metrics = analyzer.detect_review_authenticity()\n",
    "print(\"\\nReview Authenticity Analysis:\")\n",
    "print(\"-\" * 80)\n",
    "display(authenticity_metrics[['title', 'is_polarized', 'high_five_star_rate', 'has_review_clusters', 'similar_review_rate']].head(10))"
   ]
  },
  {
   "cell_type": "markdown",
   "metadata": {},
   "source": [
    "## 6. Comparative Reference Analysis"
   ]
  },
  {
   "cell_type": "code",
   "execution_count": null,
   "metadata": {},
   "outputs": [],
   "source": [
    "# Analyze comparative references\n",
    "comparative_metrics = analyzer.analyze_comparative_references()\n",
    "print(\"\\nComparative Reference Analysis:\")\n",
    "print(\"-\" * 80)\n",
    "display(comparative_metrics[['title', 'comparison_rate', 'positive_comparison_rate', 'negative_comparison_rate']].head(10))"
   ]
  },
  {
   "cell_type": "markdown",
   "metadata": {},
   "source": [
    "## 7. Customer Journey Analysis"
   ]
  },
  {
   "cell_type": "code",
   "execution_count": null,
   "metadata": {},
   "outputs": [],
   "source": [
    "# Analyze customer journey\n",
    "journey_metrics = analyzer.analyze_customer_journey()\n",
    "print(\"\\nCustomer Journey Analysis:\")\n",
    "print(\"-\" * 80)\n",
    "display(journey_metrics[['title', 'first_time_rate', 'repeat_customer_rate', 'will_return_rate', 'customer_loyalty_score']].head(10))"
   ]
  },
  {
   "cell_type": "markdown",
   "metadata": {},
   "source": [
    "## 8. Complaint Resolution Analysis"
   ]
  },
  {
   "cell_type": "code",
   "execution_count": null,
   "metadata": {},
   "outputs": [],
   "source": [
    "# Analyze complaint resolution\n",
    "resolution_metrics = analyzer.analyze_complaint_resolution()\n",
    "print(\"\\nComplaint Resolution Analysis:\")\n",
    "print(\"-\" * 80)\n",
    "display(resolution_metrics[['title', 'complaint_rate', 'complaint_response_rate', 'resolution_language_rate', 'complaint_response_time']].head(10))"
   ]
  },
  {
   "cell_type": "markdown",
   "metadata": {},
   "source": [
    "## 9. Final Ranking and Insights"
   ]
  },
  {
   "cell_type": "code",
   "execution_count": null,
   "metadata": {},
   "outputs": [],
   "source": [
    "# Create composite score and generate insights\n",
    "results = analyzer.create_composite_score()\n",
    "insights = analyzer.generate_insights()\n",
    "\n",
    "print(\"\\nTop 10 Establishments:\")\n",
    "print(\"-\" * 80)\n",
    "display(results[['rank', 'title', 'final_score', 'avg_rating', 'total_reviews']].head(10))\n",
    "\n",
    "print(\"\\nKey Insights for Top Establishments:\")\n",
    "print(\"-\" * 80)\n",
    "for place_id, insight in list(insights.items())[:5]:\n",
    "    print(f\"\\n{insight['name']} (Rank: {insight['rank']}, Score: {insight['score']:.2f})\")\n",
    "    print(\"Strengths:\")\n",
    "    for strength in insight['strengths']:\n",
    "        print(f\"- {strength}\")\n",
    "    print(\"Areas for Improvement:\")\n",
    "    for improvement in insight['improvements']:\n",
    "        print(f\"- {improvement}\")"
   ]
  },
  {
   "cell_type": "markdown",
   "metadata": {},
   "source": [
    "## 10. Save Results"
   ]
  },
  {
   "cell_type": "code",
   "execution_count": null,
   "metadata": {},
   "outputs": [],
   "source": [
    "# Save all results to output directory\n",
    "analyzer.save_results(\"analysis_results\")\n",
    "print(\"\\nAll analysis results have been saved to the 'analysis_results' directory.\")"
   ]
  }
 ],
 "metadata": {
  "kernelspec": {
   "display_name": "base",
   "language": "python",
   "name": "python3"
  },
  "language_info": {
   "codemirror_mode": {
    "name": "ipython",
    "version": 3
   },
   "file_extension": ".py",
   "mimetype": "text/x-python",
   "name": "python",
   "nbconvert_exporter": "python",
   "pygments_lexer": "ipython3",
   "version": "3.11.4"
  }
 },
 "nbformat": 4,
 "nbformat_minor": 2
}
