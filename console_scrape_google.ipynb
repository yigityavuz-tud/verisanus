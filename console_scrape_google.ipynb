{
 "cells": [
  {
   "cell_type": "code",
   "execution_count": null,
   "metadata": {},
   "outputs": [],
   "source": [
    "import scrape_google_reviews as sgr\n",
    "import pandas as pd\n",
    "from datetime import datetime\n",
    "import sys"
   ]
  },
  {
   "cell_type": "markdown",
   "metadata": {},
   "source": [
    "## Google Maps"
   ]
  },
  {
   "cell_type": "code",
   "execution_count": 2,
   "metadata": {},
   "outputs": [
    {
     "name": "stdout",
     "output_type": "stream",
     "text": [
      "Custom place IDs found, overriding scraping criteria...\n",
      "\n",
      "Selected establishments for scraping:\n",
      "--------------------------------------------------------------------------------\n",
      "Title                                              Place ID             Review Count   \n",
      "--------------------------------------------------------------------------------\n",
      "Estetistanbul Tıp Merkezi & Saç Ekimi              ChIJ0c9vBG-2yhQRgLzf-6a4veg 6              \n",
      "--------------------------------------------------------------------------------\n",
      "Total establishments to scrape: 1\n",
      "Total reviews to scrape: 6\n",
      "--------------------------------------------------------------------------------\n"
     ]
    }
   ],
   "source": [
    "config = sgr.load_config()['google_maps']\n",
    "establishments = sgr.get_establishments_to_scrape()\n",
    "if establishments.empty:\n",
    "    print(\"No establishments to scrape based on the criteria.\")\n",
    "# Display selected establishments\n",
    "print(\"\\nSelected establishments for scraping:\")\n",
    "print(\"-\" * 80)\n",
    "print(f\"{'Title':<50} {'Place ID':<20} {'Review Count':<15}\")\n",
    "print(\"-\" * 80)\n",
    "\n",
    "total_reviews = 0\n",
    "for _, establishment in establishments.iterrows():\n",
    "    print(f\"{establishment['title']:<50} {establishment['placeId']:<20} {establishment['reviewsCount']:<15}\")\n",
    "    total_reviews += establishment['reviewsCount']\n",
    "\n",
    "print(\"-\" * 80)\n",
    "print(f\"Total establishments to scrape: {len(establishments)}\")\n",
    "print(f\"Total reviews to scrape: {total_reviews}\")\n",
    "print(\"-\" * 80)\n"
   ]
  },
  {
   "cell_type": "code",
   "execution_count": 3,
   "metadata": {},
   "outputs": [
    {
     "name": "stdout",
     "output_type": "stream",
     "text": [
      "\n",
      "Starting scraping process...\n"
     ]
    }
   ],
   "source": [
    "\n",
    "# Check if confirmation is required\n",
    "if config['scraping_criteria'].get('require_confirmation', True):\n",
    "    while True:\n",
    "        response = input(\"\\nDo you want to proceed with scraping these establishments? (yes/no): \").lower()\n",
    "        if response in ['yes', 'y']:\n",
    "            print(\"\\nStarting scraping process...\")\n",
    "            break\n",
    "        elif response in ['no', 'n']:\n",
    "            print(\"\\nScraping cancelled by user.\")\n",
    "        else:\n",
    "            print(\"Please enter 'yes' or 'no'.\")\n",
    "else:\n",
    "    print(\"\\nStarting scraping process automatically (require_confirmation is set to false)...\")\n"
   ]
  },
  {
   "cell_type": "code",
   "execution_count": null,
   "metadata": {},
   "outputs": [
    {
     "name": "stdout",
     "output_type": "stream",
     "text": [
      "Reviews saved to reviews/google/googleReviews_2025-04-06_21-13.xlsx\n",
      "Found existing unified file: reviews\\google\\allGoogleReviews_2025-04-05.xlsx\n",
      "Previously processed files: 5\n",
      "Processing new file: reviews\\google\\googleReviews_2025-04-06_21-13.xlsx\n",
      "Processed 1 new files\n",
      "\n",
      "Unified reviews saved to reviews/google/allGoogleReviews_2025-04-06.xlsx\n",
      "Total reviews in unified file: 15262\n"
     ]
    }
   ],
   "source": [
    "# Proceed with scraping\n",
    "reviews_df = sgr.scrape_reviews(establishments)\n",
    "sgr.save_reviews(reviews_df)\n",
    "sgr.unify_reviews()\n"
   ]
  },
  {
   "cell_type": "code",
   "execution_count": 5,
   "metadata": {},
   "outputs": [],
   "source": [
    "\n",
    "sgr.update_establishment_base()"
   ]
  }
 ],
 "metadata": {
  "kernelspec": {
   "display_name": "base",
   "language": "python",
   "name": "python3"
  },
  "language_info": {
   "codemirror_mode": {
    "name": "ipython",
    "version": 3
   },
   "file_extension": ".py",
   "mimetype": "text/x-python",
   "name": "python",
   "nbconvert_exporter": "python",
   "pygments_lexer": "ipython3",
   "version": "3.11.4"
  }
 },
 "nbformat": 4,
 "nbformat_minor": 2
}
