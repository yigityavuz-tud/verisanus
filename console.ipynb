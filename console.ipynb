{
 "cells": [
  {
   "cell_type": "code",
   "execution_count": 1,
   "metadata": {},
   "outputs": [],
   "source": [
    "import scrape_trustpilot_reviews\n",
    "import scrape_google_reviews\n",
    "import pandas as pd\n",
    "from datetime import datetime\n",
    "import sys"
   ]
  },
  {
   "cell_type": "code",
   "execution_count": 2,
   "metadata": {},
   "outputs": [
    {
     "name": "stdout",
     "output_type": "stream",
     "text": [
      "Starting Google Reviews scraping process...\n",
      "Timestamp: 2025-04-04 18:24:47\n",
      "\n",
      "Step 1: Getting establishments to scrape...\n",
      "Found 6 establishments to scrape:\n"
     ]
    },
    {
     "data": {
      "text/html": [
       "<div>\n",
       "<style scoped>\n",
       "    .dataframe tbody tr th:only-of-type {\n",
       "        vertical-align: middle;\n",
       "    }\n",
       "\n",
       "    .dataframe tbody tr th {\n",
       "        vertical-align: top;\n",
       "    }\n",
       "\n",
       "    .dataframe thead th {\n",
       "        text-align: right;\n",
       "    }\n",
       "</style>\n",
       "<table border=\"1\" class=\"dataframe\">\n",
       "  <thead>\n",
       "    <tr style=\"text-align: right;\">\n",
       "      <th></th>\n",
       "      <th>placeId</th>\n",
       "      <th>title</th>\n",
       "      <th>website</th>\n",
       "      <th>reviewsCount</th>\n",
       "    </tr>\n",
       "  </thead>\n",
       "  <tbody>\n",
       "    <tr>\n",
       "      <th>89</th>\n",
       "      <td>ChIJ12WcZ_e3yhQRnsEKjsPkqQI</td>\n",
       "      <td>Hermest Hair Transplant Turkey</td>\n",
       "      <td>https://hermestclinic.com/</td>\n",
       "      <td>734</td>\n",
       "    </tr>\n",
       "    <tr>\n",
       "      <th>88</th>\n",
       "      <td>ChIJ4Zfkjge3yhQRr6WScoWqXxs</td>\n",
       "      <td>Swedish Clinic - Hair Transplant &amp; Aesthetic S...</td>\n",
       "      <td>https://www.swedishclinic.net/</td>\n",
       "      <td>705</td>\n",
       "    </tr>\n",
       "    <tr>\n",
       "      <th>87</th>\n",
       "      <td>ChIJt-fXGmejyhQRb0NIbIJJAc0</td>\n",
       "      <td>Hair of Istanbul | Hair Transplant</td>\n",
       "      <td>https://www.hairofistanbul.com/</td>\n",
       "      <td>679</td>\n",
       "    </tr>\n",
       "    <tr>\n",
       "      <th>86</th>\n",
       "      <td>ChIJQ7J9zVxftRQREIpLWCqTHOI</td>\n",
       "      <td>AVRUPA SAÇ EKİMİ - AVRUPA HAİR TRANSPLANT.|Gre...</td>\n",
       "      <td>NaN</td>\n",
       "      <td>566</td>\n",
       "    </tr>\n",
       "    <tr>\n",
       "      <th>85</th>\n",
       "      <td>ChIJm1HCp0PHyhQRkHK4c2nmK8c</td>\n",
       "      <td>Haircenter Saç Ekim Merkezi</td>\n",
       "      <td>http://www.haircenter.com.tr/</td>\n",
       "      <td>541</td>\n",
       "    </tr>\n",
       "    <tr>\n",
       "      <th>84</th>\n",
       "      <td>ChIJDYe5_U-7yhQRFKngnyZV_QY</td>\n",
       "      <td>Selda Center - Saç Ekimi ve Estetik Merkezi</td>\n",
       "      <td>http://www.seldacenter.com/</td>\n",
       "      <td>512</td>\n",
       "    </tr>\n",
       "  </tbody>\n",
       "</table>\n",
       "</div>"
      ],
      "text/plain": [
       "                        placeId  \\\n",
       "89  ChIJ12WcZ_e3yhQRnsEKjsPkqQI   \n",
       "88  ChIJ4Zfkjge3yhQRr6WScoWqXxs   \n",
       "87  ChIJt-fXGmejyhQRb0NIbIJJAc0   \n",
       "86  ChIJQ7J9zVxftRQREIpLWCqTHOI   \n",
       "85  ChIJm1HCp0PHyhQRkHK4c2nmK8c   \n",
       "84  ChIJDYe5_U-7yhQRFKngnyZV_QY   \n",
       "\n",
       "                                                title  \\\n",
       "89                     Hermest Hair Transplant Turkey   \n",
       "88  Swedish Clinic - Hair Transplant & Aesthetic S...   \n",
       "87                 Hair of Istanbul | Hair Transplant   \n",
       "86  AVRUPA SAÇ EKİMİ - AVRUPA HAİR TRANSPLANT.|Gre...   \n",
       "85                        Haircenter Saç Ekim Merkezi   \n",
       "84        Selda Center - Saç Ekimi ve Estetik Merkezi   \n",
       "\n",
       "                            website  reviewsCount  \n",
       "89       https://hermestclinic.com/           734  \n",
       "88   https://www.swedishclinic.net/           705  \n",
       "87  https://www.hairofistanbul.com/           679  \n",
       "86                              NaN           566  \n",
       "85    http://www.haircenter.com.tr/           541  \n",
       "84      http://www.seldacenter.com/           512  "
      ]
     },
     "metadata": {},
     "output_type": "display_data"
    },
    {
     "name": "stdout",
     "output_type": "stream",
     "text": [
      "\n",
      "Step 2: Scraping reviews...\n"
     ]
    },
    {
     "ename": "ValueError",
     "evalue": "Token file apify_token_dev2.txt not found. Please check the config file.",
     "output_type": "error",
     "traceback": [
      "\u001b[1;31m---------------------------------------------------------------------------\u001b[0m",
      "\u001b[1;31mFileNotFoundError\u001b[0m                         Traceback (most recent call last)",
      "File \u001b[1;32mc:\\Users\\yigit\\Desktop\\Enterprises\\verisanus_2\\a_dev\\scrape_google_reviews.py:17\u001b[0m, in \u001b[0;36mget_apify_token\u001b[1;34m()\u001b[0m\n\u001b[0;32m     16\u001b[0m \u001b[38;5;28;01mtry\u001b[39;00m:\n\u001b[1;32m---> 17\u001b[0m     \u001b[38;5;28;01mwith\u001b[39;00m \u001b[38;5;28mopen\u001b[39m(token_file, \u001b[38;5;124m'\u001b[39m\u001b[38;5;124mr\u001b[39m\u001b[38;5;124m'\u001b[39m) \u001b[38;5;28;01mas\u001b[39;00m file:\n\u001b[0;32m     18\u001b[0m         \u001b[38;5;28;01mreturn\u001b[39;00m file\u001b[38;5;241m.\u001b[39mread()\u001b[38;5;241m.\u001b[39mstrip()\n",
      "\u001b[1;31mFileNotFoundError\u001b[0m: [Errno 2] No such file or directory: 'apify_token_dev2.txt'",
      "\nDuring handling of the above exception, another exception occurred:\n",
      "\u001b[1;31mValueError\u001b[0m                                Traceback (most recent call last)",
      "Cell \u001b[1;32mIn[2], line 17\u001b[0m\n\u001b[0;32m     15\u001b[0m \u001b[38;5;66;03m# Step 2: Scrape reviews\u001b[39;00m\n\u001b[0;32m     16\u001b[0m \u001b[38;5;28mprint\u001b[39m(\u001b[38;5;124m\"\u001b[39m\u001b[38;5;130;01m\\n\u001b[39;00m\u001b[38;5;124mStep 2: Scraping reviews...\u001b[39m\u001b[38;5;124m\"\u001b[39m)\n\u001b[1;32m---> 17\u001b[0m reviews_df \u001b[38;5;241m=\u001b[39m scrape_google_reviews\u001b[38;5;241m.\u001b[39mscrape_reviews(establishments)\n\u001b[0;32m     18\u001b[0m \u001b[38;5;28mprint\u001b[39m(\u001b[38;5;124mf\u001b[39m\u001b[38;5;124m\"\u001b[39m\u001b[38;5;124mScraped \u001b[39m\u001b[38;5;132;01m{\u001b[39;00m\u001b[38;5;28mlen\u001b[39m(reviews_df)\u001b[38;5;132;01m}\u001b[39;00m\u001b[38;5;124m reviews\u001b[39m\u001b[38;5;124m\"\u001b[39m)\n\u001b[0;32m     19\u001b[0m \u001b[38;5;28;01mif\u001b[39;00m \u001b[38;5;129;01mnot\u001b[39;00m reviews_df\u001b[38;5;241m.\u001b[39mempty:\n",
      "File \u001b[1;32mc:\\Users\\yigit\\Desktop\\Enterprises\\verisanus_2\\a_dev\\scrape_google_reviews.py:76\u001b[0m, in \u001b[0;36mscrape_reviews\u001b[1;34m(establishments)\u001b[0m\n\u001b[0;32m     74\u001b[0m \u001b[38;5;28;01mdef\u001b[39;00m \u001b[38;5;21mscrape_reviews\u001b[39m(establishments):\n\u001b[0;32m     75\u001b[0m     config \u001b[38;5;241m=\u001b[39m load_config()[\u001b[38;5;124m'\u001b[39m\u001b[38;5;124mgoogle_maps\u001b[39m\u001b[38;5;124m'\u001b[39m]\n\u001b[1;32m---> 76\u001b[0m     token \u001b[38;5;241m=\u001b[39m get_apify_token()\n\u001b[0;32m     77\u001b[0m     client \u001b[38;5;241m=\u001b[39m ApifyClient(token)\n\u001b[0;32m     79\u001b[0m     all_reviews \u001b[38;5;241m=\u001b[39m []\n",
      "File \u001b[1;32mc:\\Users\\yigit\\Desktop\\Enterprises\\verisanus_2\\a_dev\\scrape_google_reviews.py:20\u001b[0m, in \u001b[0;36mget_apify_token\u001b[1;34m()\u001b[0m\n\u001b[0;32m     18\u001b[0m         \u001b[38;5;28;01mreturn\u001b[39;00m file\u001b[38;5;241m.\u001b[39mread()\u001b[38;5;241m.\u001b[39mstrip()\n\u001b[0;32m     19\u001b[0m \u001b[38;5;28;01mexcept\u001b[39;00m \u001b[38;5;167;01mFileNotFoundError\u001b[39;00m:\n\u001b[1;32m---> 20\u001b[0m     \u001b[38;5;28;01mraise\u001b[39;00m \u001b[38;5;167;01mValueError\u001b[39;00m(\u001b[38;5;124mf\u001b[39m\u001b[38;5;124m\"\u001b[39m\u001b[38;5;124mToken file \u001b[39m\u001b[38;5;132;01m{\u001b[39;00mtoken_file\u001b[38;5;132;01m}\u001b[39;00m\u001b[38;5;124m not found. Please check the config file.\u001b[39m\u001b[38;5;124m\"\u001b[39m)\n",
      "\u001b[1;31mValueError\u001b[0m: Token file apify_token_dev2.txt not found. Please check the config file."
     ]
    }
   ],
   "source": [
    "print(\"Starting Google Reviews scraping process...\")\n",
    "print(f\"Timestamp: {datetime.now().strftime('%Y-%m-%d %H:%M:%S')}\")\n",
    "\n",
    "\n",
    "# Step 1: Get establishments to scrape\n",
    "print(\"\\nStep 1: Getting establishments to scrape...\")\n",
    "establishments = scrape_google_reviews.get_establishments_to_scrape()\n",
    "\n",
    "if establishments.empty:\n",
    "    print(\"No establishments found matching the criteria.\")\n",
    "else:\n",
    "    print(f\"Found {len(establishments)} establishments to scrape:\")\n",
    "    display(establishments[['placeId', 'title', 'website', 'reviewsCount']])\n",
    "    \n",
    "    # Step 2: Scrape reviews\n",
    "    print(\"\\nStep 2: Scraping reviews...\")\n",
    "    reviews_df = scrape_google_reviews.scrape_reviews(establishments)\n",
    "    print(f\"Scraped {len(reviews_df)} reviews\")\n",
    "    if not reviews_df.empty:\n",
    "        print(\"\\nFirst few reviews:\")\n",
    "        display(reviews_df.head())\n",
    "    \n",
    "    # Step 3: Save individual review files\n",
    "    print(\"\\nStep 3: Saving individual review files...\")\n",
    "    scrape_google_reviews.save_reviews(reviews_df)\n",
    "    \n"
   ]
  },
  {
   "cell_type": "code",
   "execution_count": null,
   "metadata": {},
   "outputs": [],
   "source": [
    "# Step 4: Unify reviews\n",
    "print(\"\\nStep 4: Unifying reviews...\")\n",
    "scrape_google_reviews.unify_reviews()\n",
    "\n",
    "# Step 5: Update establishment base\n",
    "print(\"\\nStep 5: Updating establishment base...\")\n",
    "scrape_google_reviews.update_establishment_base()\n",
    "\n",
    "print(\"\\nProcess completed successfully!\")\n",
    "print(f\"End timestamp: {datetime.now().strftime('%Y-%m-%d %H:%M:%S')}\")\n"
   ]
  },
  {
   "cell_type": "code",
   "execution_count": null,
   "metadata": {},
   "outputs": [],
   "source": []
  }
 ],
 "metadata": {
  "kernelspec": {
   "display_name": "base",
   "language": "python",
   "name": "python3"
  },
  "language_info": {
   "codemirror_mode": {
    "name": "ipython",
    "version": 3
   },
   "file_extension": ".py",
   "mimetype": "text/x-python",
   "name": "python",
   "nbconvert_exporter": "python",
   "pygments_lexer": "ipython3",
   "version": "3.11.4"
  }
 },
 "nbformat": 4,
 "nbformat_minor": 2
}
