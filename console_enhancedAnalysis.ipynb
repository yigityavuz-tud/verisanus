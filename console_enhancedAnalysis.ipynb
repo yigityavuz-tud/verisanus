{
 "cells": [
  {
   "cell_type": "code",
   "execution_count": 1,
   "metadata": {},
   "outputs": [
    {
     "name": "stderr",
     "output_type": "stream",
     "text": [
      "[nltk_data] Downloading package vader_lexicon to\n",
      "[nltk_data]     C:\\Users\\yigit\\AppData\\Roaming\\nltk_data...\n",
      "[nltk_data]   Package vader_lexicon is already up-to-date!\n",
      "[nltk_data] Downloading package punkt to\n",
      "[nltk_data]     C:\\Users\\yigit\\AppData\\Roaming\\nltk_data...\n",
      "[nltk_data]   Package punkt is already up-to-date!\n",
      "[nltk_data] Downloading package stopwords to\n",
      "[nltk_data]     C:\\Users\\yigit\\AppData\\Roaming\\nltk_data...\n",
      "[nltk_data]   Package stopwords is already up-to-date!\n",
      "[nltk_data] Downloading package wordnet to\n",
      "[nltk_data]     C:\\Users\\yigit\\AppData\\Roaming\\nltk_data...\n",
      "[nltk_data]   Package wordnet is already up-to-date!\n"
     ]
    }
   ],
   "source": [
    "\"\"\"\n",
    "Test script for the EnhancedReviewAnalyzer.\n",
    "This script runs the enhanced analysis on the provided data files and displays results.\n",
    "\"\"\"\n",
    "\n",
    "import pandas as pd\n",
    "import numpy as np\n",
    "from datetime import datetime\n",
    "import matplotlib.pyplot as plt\n",
    "import seaborn as sns\n",
    "from enhanced_review_analyzer import EnhancedReviewAnalyzer\n"
   ]
  },
  {
   "cell_type": "code",
   "execution_count": 2,
   "metadata": {},
   "outputs": [
    {
     "name": "stdout",
     "output_type": "stream",
     "text": [
      "Starting enhanced review analysis...\n",
      "Google Maps data: reviews/google/allGoogleReviews_2025-04-06.xlsx\n",
      "Trustpilot data: reviews/trustpilot/allTrustpilotReviews_2025-04-06.xlsx\n",
      "Establishment data: establishments/establishment_base.xlsx\n",
      "Loading data...\n",
      "Loaded 15262 Google Maps reviews\n",
      "Loaded 694 Trustpilot reviews\n",
      "Loaded 67 establishments\n",
      "Preprocessing data...\n",
      "Combined dataset created with 15956 reviews\n",
      "Filtering reviews to keep only hair transplantation related content...\n",
      "Filtered out 123 reviews unrelated to hair transplantation\n",
      "Remaining reviews: 15833\n",
      "Detecting suspicious reviews using advanced clustering...\n",
      "Identified 7 suspicious clusters\n",
      "Identified 0 suspicious reviews based on similarity\n",
      "Total reviews affected by suspicion: 23\n",
      "Data preprocessing completed\n",
      "Preparing review labels...\n",
      "Positive reviews: 13388\n",
      "Negative reviews: 485\n",
      "Complaint reviews: 634\n"
     ]
    }
   ],
   "source": [
    "\"\"\"Run the enhanced review analysis and display the results.\"\"\"\n",
    "# File paths\n",
    "google_maps_file = \"reviews/google/allGoogleReviews_2025-04-06.xlsx\"\n",
    "trustpilot_file = \"reviews/trustpilot/allTrustpilotReviews_2025-04-06.xlsx\"\n",
    "establishment_file = \"establishments/establishment_base.xlsx\"\n",
    "\n",
    "print(\"Starting enhanced review analysis...\")\n",
    "print(f\"Google Maps data: {google_maps_file}\")\n",
    "print(f\"Trustpilot data: {trustpilot_file}\")\n",
    "print(f\"Establishment data: {establishment_file}\")\n",
    "\n",
    "# Create analyzer\n",
    "analyzer = EnhancedReviewAnalyzer(google_maps_file, trustpilot_file, establishment_file)\n"
   ]
  },
  {
   "cell_type": "code",
   "execution_count": null,
   "metadata": {},
   "outputs": [],
   "source": [
    "\n",
    "# Run full analysis\n",
    "print(\"\\nRunning full analysis...\")\n",
    "results = analyzer.run_analysis()\n"
   ]
  },
  {
   "cell_type": "code",
   "execution_count": null,
   "metadata": {},
   "outputs": [],
   "source": [
    "# Display all results\n",
    "display(results)\n",
    "# top10 = results.head(10)\n",
    "# print(top10[['rank', 'establishment_name', 'final_score', 'weighted_avg_rating', 'total_reviews']])\n"
   ]
  },
  {
   "cell_type": "code",
   "execution_count": null,
   "metadata": {},
   "outputs": [],
   "source": [
    "# # Display component scores\n",
    "# print(\"\\nComponent Scores for All Establishments:\")\n",
    "# print(\"=\" * 100)\n",
    "# print(results[['establishment_name', 'rating_score', 'volume_score', 'recommendation_score', \n",
    "#             'service_score', 'affordability_score', 'recommendation_score']])\n"
   ]
  },
  {
   "cell_type": "code",
   "execution_count": null,
   "metadata": {},
   "outputs": [],
   "source": [
    "\n",
    "# Save results\n",
    "output_dir = \"analysis_results\"\n",
    "print(f\"\\nSaving results to {output_dir}...\")\n",
    "analyzer.save_results(output_dir)\n",
    "print(\"\\nAnalysis completed successfully!\")"
   ]
  },
  {
   "cell_type": "code",
   "execution_count": 3,
   "metadata": {},
   "outputs": [
    {
     "name": "stdout",
     "output_type": "stream",
     "text": [
      "Creating new clinics CMS file from latest rankings...\n",
      "New clinics CMS file created successfully: website_uploads\\clinics_cms_20250411_104100.csv\n",
      "Based on rankings from: establishment_rankings_20250410_160237.xlsx\n"
     ]
    }
   ],
   "source": [
    "# Export results to cms management file\n",
    "analyzer.update_clinics_cms_template()"
   ]
  },
  {
   "cell_type": "code",
   "execution_count": null,
   "metadata": {},
   "outputs": [],
   "source": []
  }
 ],
 "metadata": {
  "kernelspec": {
   "display_name": "base",
   "language": "python",
   "name": "python3"
  },
  "language_info": {
   "codemirror_mode": {
    "name": "ipython",
    "version": 3
   },
   "file_extension": ".py",
   "mimetype": "text/x-python",
   "name": "python",
   "nbconvert_exporter": "python",
   "pygments_lexer": "ipython3",
   "version": "3.11.4"
  }
 },
 "nbformat": 4,
 "nbformat_minor": 2
}
